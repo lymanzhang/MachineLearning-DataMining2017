{
 "cells": [
  {
   "cell_type": "code",
   "execution_count": 2,
   "metadata": {
    "collapsed": true
   },
   "outputs": [],
   "source": [
    "import os\n",
    "import numpy as np\n",
    "import matplotlib.pyplot as plt\n",
    "from PIL import Image\n",
    "import jieba\n",
    "from wordcloud import WordCloud,ImageColorGenerator"
   ]
  },
  {
   "cell_type": "code",
   "execution_count": 3,
   "metadata": {
    "collapsed": true
   },
   "outputs": [],
   "source": [
    "# 工作目录\n",
    "cwd = os.getcwd()\n",
    "# 读取文件\n",
    "fh = open(cwd+'\\\\背影.txt','rb')\n",
    "data = fh.read().decode('utf-8')"
   ]
  },
  {
   "cell_type": "code",
   "execution_count": 4,
   "metadata": {},
   "outputs": [
    {
     "name": "stderr",
     "output_type": "stream",
     "text": [
      "Building prefix dict from C:\\Users\\lymanZHANG\\Anaconda3\\lib\\site-packages\\jieba\\dict.txt ...\n",
      "Loading model from cache C:\\Users\\LYMANZ~1\\AppData\\Local\\Temp\\jieba.cache\n",
      "Loading model cost 0.9195764064788818 seconds.\n",
      "Prefix dict has been built succesfully.\n"
     ]
    }
   ],
   "source": [
    "seg_str = ' '.join(jieba.cut(data,cut_all = False))"
   ]
  },
  {
   "cell_type": "code",
   "execution_count": 5,
   "metadata": {},
   "outputs": [
    {
     "name": "stdout",
     "output_type": "stream",
     "text": [
      "Counter({'，': 101, '。': 48, '我': 44, '他': 35, '的': 30, '了': 27, '父亲': 11, '到': 11, '\\u3000': 10, '；': 10, '走': 10, '去': 9, '！': 8, '不': 7, '是': 7, '看见': 7, '又': 7, '“': 7, '”': 7, '着': 6, '要': 6, '说': 5, '\\r\\n': 5, '橘子': 5, '已': 4, '背影': 4, '便': 4, '时': 4, '茶房': 4, '终于': 4, '过': 4, '自己': 4, '他们': 4, '那边': 4, '铁道': 4, '再': 4, '也': 3, '北京': 3, '地': 3, '在': 3, '丧事': 3, '一日': 3, '送': 3, '但': 3, '怕': 3, '一会': 3, '和': 3, '大': 3, '就': 3, '给': 3, '将': 3, '看': 3, '月台': 3, '自然': 3, '黑布': 3, '与': 2, '相见': 2, '不能': 2, '那年': 2, '祖母': 2, '日子': 2, '徐州': 2, '回家': 2, '眼泪': 2, '不必': 2, '好': 2, '还': 2, '家中': 2, '光景': 2, '很': 2, '一半': 2, '为了': 2, '南京': 2, '回': 2, '我们': 2, '上车': 2, '一个': 2, '踌躇': 2, '只': 2, '不好': 2, '忙': 2, '行李': 2, '向': 2, '过去': 2, '那时': 2, '聪明': 2, '做': 2, '些': 2, '不要': 2, '心里': 2, '人': 2, '唉': 2, '说道': 2, '你': 2, '吧': 2, '几个': 2, '等': 2, '须': 2, '穿过': 2, '马褂': 2, '青布': 2, '棉袍': 2, '慢慢': 2, '爬': 2, '上': 2, '肥胖': 2, '泪': 2, '赶紧': 2, '抱': 2, '放在': 2, '扑': 2, '中': 2, '惦记着': 2, '\\ufeff': 1, '二年': 1, '余': 1, '最': 1, '忘记': 1, '冬天': 1, '死': 1, '差使': 1, '交卸': 1, '正是': 1, '祸不单行': 1, '从': 1, '打算': 1, '跟着': 1, '奔丧': 1, '见': 1, '满院': 1, '狼藉': 1, '东西': 1, '想起': 1, '不禁': 1, '簌簌': 1, '流下': 1, '事已如此': 1, '难过': 1, '天无绝人之路': 1, '变卖': 1, '典质': 1, '亏空': 1, '借钱': 1, '办': 1, '这些': 1, '惨淡': 1, '赋闲': 1, '完毕': 1, '谋事': 1, '念书': 1, '同行': 1, '有': 1, '朋友': 1, '约': 1, '游逛': 1, '勾留': 1, '第二日': 1, '上午': 1, '便须': 1, '渡江': 1, '浦口': 1, '下午': 1, '北': 1, '因为': 1, '事忙': 1, '本已': 1, '说定': 1, '叫': 1, '旅馆': 1, '里': 1, '熟识': 1, '陪': 1, '同去': 1, '再三': 1, '嘱咐': 1, '甚': 1, '仔细': 1, '放心': 1, '妥帖': 1, '颇': 1, '其实': 1, '二十岁': 1, '来往': 1, '两三次': 1, '没有': 1, '甚么': 1, '要紧': 1, '决定': 1, '还是': 1, '两三回': 1, '劝': 1, '不要紧': 1, '江': 1, '进': 1, '车站': 1, '买票': 1, '照看': 1, '太多': 1, '得': 1, '脚夫': 1, '行些': 1, '小费': 1, '才': 1, '可': 1, '讲价钱': 1, '真是': 1, '过分': 1, '总觉': 1, '说话': 1, '漂亮': 1, '非': 1, '插嘴': 1, '不可': 1, '讲定': 1, '价钱': 1, '拣': 1, '定': 1, '靠': 1, '车门': 1, '一张': 1, '椅子': 1, '紫毛': 1, '大衣': 1, '铺': 1, '坐位': 1, '他嘱': 1, '路上': 1, '小心': 1, '夜里': 1, '警醒': 1, '受凉': 1, '嘱托': 1, '好好': 1, '照应': 1, '暗笑': 1, '迂': 1, '认得': 1, '钱': 1, '托': 1, '直是': 1, '白托': 1, '而且': 1, '这样': 1, '年纪': 1, '难道': 1, '料理': 1, '么': 1, '？': 1, '现在': 1, '想想': 1, '真是太': 1, '爸爸': 1, '他望': 1, '车外': 1, '买': 1, '此地': 1, '走动': 1, '栅栏': 1, '外有': 1, '卖东西': 1, '顾客': 1, '跳下去': 1, '爬上去': 1, '胖子': 1, '费事': 1, '本来': 1, '不肯': 1, '只好': 1, '让': 1, '戴': 1, '小帽': 1, '穿着': 1, '深': 1, '蹒跚': 1, '边': 1, '探身': 1, '下去': 1, '尚': 1, '大难': 1, '可是': 1, '容易': 1, '用': 1, '两手': 1, '攀着': 1, '上面': 1, '两脚': 1, '向上': 1, '缩': 1, '身子': 1, '左微': 1, '倾': 1, '显出': 1, '努力': 1, '样子': 1, '这时': 1, '很快': 1, '流下来': 1, '拭干': 1, '别人': 1, '向外看': 1, '朱红': 1, '望': 1, '先': 1, '散': 1, '地上': 1, '下': 1, '起': 1, '这边': 1, '搀': 1, '车上': 1, '一股脑儿': 1, '皮大衣': 1, '于是': 1, '衣上': 1, '泥土': 1, '轻松': 1, '似的': 1, '来信': 1, '我望': 1, '出去': 1, '几步': 1, '回过': 1, '头': 1, '进去': 1, '里边': 1, '没': 1, '混入': 1, '来来往往': 1, '人里': 1, '找不着': 1, '进来': 1, '坐下': 1, '来': 1, '近几年来': 1, '都': 1, '东奔西走': 1, '不如': 1, '少年': 1, '出外': 1, '谋生': 1, '独力': 1, '支持': 1, '许多': 1, '大事': 1, '那知': 1, '老境': 1, '却': 1, '如此': 1, '颓唐': 1, '触目伤怀': 1, '情': 1, '不能自已': 1, '情郁于': 1, '发之于': 1, '外': 1, '家庭': 1, '琐屑': 1, '往往': 1, '触': 1, '之': 1, '怒': 1, '待': 1, '渐渐': 1, '不同': 1, '往日': 1, '最近': 1, '两年': 1, '不见': 1, '忘却': 1, '只是': 1, '儿子': 1, '我北来': 1, '后': 1, '写': 1, '一信': 1, '信中': 1, '身体': 1, '平安': 1, '惟': 1, '膀子': 1, '疼痛': 1, '利害': 1, '举箸': 1, '提笔': 1, '诸多不便': 1, '大约': 1, '大去': 1, '之期': 1, '不远': 1, '矣': 1, '我读': 1, '此处': 1, '晶莹': 1, '泪光': 1, '那': 1, '不知': 1, '何时': 1, '再能': 1})\n"
     ]
    }
   ],
   "source": [
    "from collections import Counter\n",
    "seg_list = jieba.cut(data,cut_all = False)\n",
    "count = Counter(seg_list)\n",
    "print(count)"
   ]
  },
  {
   "cell_type": "code",
   "execution_count": 6,
   "metadata": {},
   "outputs": [
    {
     "data": {
      "text/plain": [
       "<matplotlib.figure.Figure at 0x18ba40c2828>"
      ]
     },
     "execution_count": 6,
     "metadata": {},
     "output_type": "execute_result"
    },
    {
     "data": {
      "image/png": "[encoded data removed]",
      "text/plain": [
       "<matplotlib.figure.Figure at 0x18ba3eb2f98>"
      ]
     },
     "metadata": {},
     "output_type": "display_data"
    },
    {
     "data": {
      "image/png": "[encoded data removed]",
      "text/plain": [
       "<matplotlib.figure.Figure at 0x18ba40aff98>"
      ]
     },
     "metadata": {},
     "output_type": "display_data"
    },
    {
     "data": {
      "text/plain": [
       "<matplotlib.figure.Figure at 0x18ba40c2828>"
      ]
     },
     "metadata": {},
     "output_type": "display_data"
    }
   ],
   "source": [
    "im = np.array(Image.open(cwd+'\\\\beiying.PNG'))\n",
    "#Generate WordCloud\n",
    "wc = WordCloud(background_color = \"white\",\n",
    "               max_words = 100,\n",
    "               mask = im,\n",
    "               max_font_size = 80, \n",
    "               height = 1512, \n",
    "               width = 635, \n",
    "               font_path = 'msyh.ttc') # 简单起见，直接把字体文件复制到项目所在文件夹\n",
    "wc.generate(seg_str)\n",
    "# 从背景图片得到颜色\n",
    "imColor = ImageColorGenerator(im)  \n",
    "\n",
    "# 使用jupyter notebook使用，否则请注释掉\n",
    "% matplotlib inline\n",
    "plt.imshow(wc)\n",
    "wc.to_file(cwd+'\\\\beiying_new.PNG')\n",
    "plt.axis(\"off\")\n",
    "plt.figure()\n",
    "plt.imshow(wc.recolor(color_func=imColor))\n",
    "plt.axis(\"off\")\n",
    "plt.figure()"
   ]
  },
  {
   "cell_type": "code",
   "execution_count": null,
   "metadata": {},
   "outputs": [],
   "source": []
  },
  {
   "cell_type": "code",
   "execution_count": null,
   "metadata": {
    "collapsed": true
   },
   "outputs": [],
   "source": []
  }
 ],
 "metadata": {
  "kernelspec": {
   "display_name": "Python 3",
   "language": "python",
   "name": "python3"
  },
  "language_info": {
   "codemirror_mode": {
    "name": "ipython",
    "version": 3
   },
   "file_extension": ".py",
   "mimetype": "text/x-python",
   "name": "python",
   "nbconvert_exporter": "python",
   "pygments_lexer": "ipython3",
   "version": "3.6.2"
  }
 },
 "nbformat": 4,
 "nbformat_minor": 2
}
